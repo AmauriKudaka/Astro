{
  "nbformat": 4,
  "nbformat_minor": 0,
  "metadata": {
    "colab": {
      "name": "Astroifnormática II - Aula 14.ipynb",
      "provenance": [],
      "collapsed_sections": [],
      "include_colab_link": true
    },
    "kernelspec": {
      "name": "python3",
      "display_name": "Python 3"
    }
  },
  "cells": [
    {
      "cell_type": "markdown",
      "metadata": {
        "id": "view-in-github",
        "colab_type": "text"
      },
      "source": [
        "<a href=\"https://colab.research.google.com/github/AmauriKudaka/Astro/blob/master/Astroifnorm%C3%A1tica_II_Aula_14.ipynb\" target=\"_parent\"><img src=\"https://colab.research.google.com/assets/colab-badge.svg\" alt=\"Open In Colab\"/></a>"
      ]
    },
    {
      "cell_type": "code",
      "metadata": {
        "id": "kmHcSYQNefe8",
        "colab_type": "code",
        "colab": {
          "base_uri": "https://localhost:8080/",
          "height": 391
        },
        "outputId": "576e1066-9005-496a-fd4a-19995c16119d"
      },
      "source": [
        "!pip install astroml"
      ],
      "execution_count": 1,
      "outputs": [
        {
          "output_type": "stream",
          "text": [
            "Collecting astroml\n",
            "\u001b[?25l  Downloading https://files.pythonhosted.org/packages/e6/16/bb2d2784c09bfa9ed1ac5c3caf32cc203a1f8614fd5361f99ee46b4e04dc/astroML-0.4.1.tar.gz (105kB)\n",
            "\u001b[K     |████████████████████████████████| 112kB 2.7MB/s \n",
            "\u001b[?25hRequirement already satisfied: scikit-learn>=0.18 in /usr/local/lib/python3.6/dist-packages (from astroml) (0.21.3)\n",
            "Requirement already satisfied: numpy>=1.4 in /usr/local/lib/python3.6/dist-packages (from astroml) (1.16.5)\n",
            "Requirement already satisfied: scipy>=0.11 in /usr/local/lib/python3.6/dist-packages (from astroml) (1.3.1)\n",
            "Requirement already satisfied: matplotlib>=0.99 in /usr/local/lib/python3.6/dist-packages (from astroml) (3.0.3)\n",
            "Requirement already satisfied: astropy>=1.2 in /usr/local/lib/python3.6/dist-packages (from astroml) (3.0.5)\n",
            "Requirement already satisfied: joblib>=0.11 in /usr/local/lib/python3.6/dist-packages (from scikit-learn>=0.18->astroml) (0.14.0)\n",
            "Requirement already satisfied: python-dateutil>=2.1 in /usr/local/lib/python3.6/dist-packages (from matplotlib>=0.99->astroml) (2.5.3)\n",
            "Requirement already satisfied: pyparsing!=2.0.4,!=2.1.2,!=2.1.6,>=2.0.1 in /usr/local/lib/python3.6/dist-packages (from matplotlib>=0.99->astroml) (2.4.2)\n",
            "Requirement already satisfied: kiwisolver>=1.0.1 in /usr/local/lib/python3.6/dist-packages (from matplotlib>=0.99->astroml) (1.1.0)\n",
            "Requirement already satisfied: cycler>=0.10 in /usr/local/lib/python3.6/dist-packages (from matplotlib>=0.99->astroml) (0.10.0)\n",
            "Requirement already satisfied: six>=1.5 in /usr/local/lib/python3.6/dist-packages (from python-dateutil>=2.1->matplotlib>=0.99->astroml) (1.12.0)\n",
            "Requirement already satisfied: setuptools in /usr/local/lib/python3.6/dist-packages (from kiwisolver>=1.0.1->matplotlib>=0.99->astroml) (41.4.0)\n",
            "Building wheels for collected packages: astroml\n",
            "  Building wheel for astroml (setup.py) ... \u001b[?25l\u001b[?25hdone\n",
            "  Created wheel for astroml: filename=astroML-0.4.1-cp36-none-any.whl size=128663 sha256=38c16a816408d57e47acf319864e3d295f319c1e6827109f956e81caaf4ce4d0\n",
            "  Stored in directory: /root/.cache/pip/wheels/7c/f2/f3/eb817cfb31b4445358dd7dda2434e02003f72801edabc38c97\n",
            "Successfully built astroml\n",
            "Installing collected packages: astroml\n",
            "Successfully installed astroml-0.4.1\n"
          ],
          "name": "stdout"
        }
      ]
    },
    {
      "cell_type": "code",
      "metadata": {
        "id": "ompSkZbnfy4T",
        "colab_type": "code",
        "colab": {
          "base_uri": "https://localhost:8080/",
          "height": 304
        },
        "outputId": "5f2c5343-c058-4957-8755-a1f5e60cf8a6"
      },
      "source": [
        "import numpy as np\n",
        "import matplotlib.pyplot as plt\n",
        "%matplotlib inline\n",
        "from sklearn import svm\n",
        "\n",
        "\n",
        "np.random.seed(1)\n",
        "\n",
        "N1 = 10\n",
        "N2 = 10\n",
        "mu1 = np.array([1.0, 1.00])\n",
        "mu2 = np.array([2.0, 2.0])\n",
        "\n",
        "Cov1 = np.array([[1, 5],\n",
        "                [5, 1]])\n",
        "\n",
        "#Cov1 = np.array([[1, 0.25],\n",
        "                #[0.25, 1]])\n",
        "\n",
        "#Cov1 = np.array([[1, -0.25],\n",
        "                #[-0.25, 1]])\n",
        "Cov2 = Cov1\n",
        "\n",
        "X = np.vstack([np.random.multivariate_normal(mu1, Cov1, N1),\n",
        "               np.random.multivariate_normal(mu2, Cov2, N2)])\n",
        "y = np.hstack([np.zeros(N1), np.ones(N2)])\n",
        "\n",
        "#print (X)\n",
        "#print (y)\n",
        "\n",
        "#------------------------------------------------------------\n",
        "# Perform an SVM classification\n",
        "clf = svm.SVC(kernel='linear')\n",
        "clf.fit(X, y)\n",
        "\n",
        "xx = np.linspace(-5, 5)\n",
        "w = clf.coef_[0]\n",
        "m = -w[0] / w[1]\n",
        "b = - clf.intercept_[0] / w[1]\n",
        "yy = m * xx + b\n",
        "\n",
        "#------------------------------------------------------------\n",
        "# find support vectors\n",
        "i1 = np.argmax(np.dot(X[:N1], w))\n",
        "i2 = N1 + np.argmin(np.dot(X[N1:], w))\n",
        "\n",
        "db1 = X[i1, 1] - (m * X[i1, 0] + b)\n",
        "db2 = X[i2, 1] - (m * X[i2, 0] + b)\n",
        "\n",
        "#------------------------------------------------------------\n",
        "# Plot the results\n",
        "fig = plt.figure(figsize=(5, 3.75))\n",
        "ax = fig.add_subplot(111, aspect='equal')\n",
        "\n",
        "ax.scatter(X[:, 0], X[:, 1], c=y, s=30, cmap=plt.cm.binary)\n",
        "ax.plot(xx, yy, '-k')\n",
        "ax.plot(xx, yy + db1, '--k')\n",
        "ax.plot(xx, yy + db2, '--k')\n",
        "\n",
        "ax.set_ylim(-1.5, 4)\n",
        "ax.set_xlim(-3, 4)\n",
        "\n",
        "ax.set_xlabel('$x$')\n",
        "ax.set_ylabel('$y$')\n",
        "\n",
        "plt.show()"
      ],
      "execution_count": 7,
      "outputs": [
        {
          "output_type": "stream",
          "text": [
            "/usr/local/lib/python3.6/dist-packages/ipykernel_launcher.py:24: RuntimeWarning: covariance is not symmetric positive-semidefinite.\n",
            "/usr/local/lib/python3.6/dist-packages/ipykernel_launcher.py:25: RuntimeWarning: covariance is not symmetric positive-semidefinite.\n"
          ],
          "name": "stderr"
        },
        {
          "output_type": "display_data",
          "data": {
            "image/png": "[encoded data removed]",
            "text/plain": [
              "<Figure size 360x270 with 1 Axes>"
            ]
          },
          "metadata": {
            "tags": []
          }
        }
      ]
    },
    {
      "cell_type": "code",
      "metadata": {
        "id": "lcyp87MXhU23",
        "colab_type": "code",
        "colab": {
          "base_uri": "https://localhost:8080/",
          "height": 442
        },
        "outputId": "d4d0c20b-38ca-49e2-dd68-f6993e2ae7be"
      },
      "source": [
        "from __future__ import print_function\n",
        "\n",
        "import numpy as np\n",
        "from matplotlib import pyplot as plt\n",
        "\n",
        "from sklearn.svm import SVC\n",
        "from astroML.utils.decorators import pickle_results\n",
        "from astroML.datasets import fetch_rrlyrae_combined\n",
        "from astroML.utils import split_samples\n",
        "from astroML.utils import completeness_contamination\n",
        "\n",
        "#----------------------------------------------------------------------\n",
        "# This function adjusts matplotlib settings for a uniform feel in the textbook.\n",
        "# Note that with usetex=True, fonts are rendered with LaTeX.  This may\n",
        "# result in an error if LaTeX is not installed on your system.  In that case,\n",
        "# you can set usetex to False.\n",
        "if \"setup_text_plots\" not in globals():\n",
        "    from astroML.plotting import setup_text_plots\n",
        "setup_text_plots(fontsize=8, usetex=False)\n",
        "\n",
        "\n",
        "#Desafio calcular média\n",
        "\n",
        "\n",
        "\n",
        "#----------------------------------------------------------------------\n",
        "# get data and split into training & testing sets\n",
        "X, y = fetch_rrlyrae_combined()\n",
        "X = X[:, [1, 0, 2, 3]]  # rearrange columns for better 1-color results\n",
        "\n",
        "# SVM takes several minutes to run, and is order[N^2]\n",
        "#  truncating the dataset can be useful for experimentation.\n",
        "#X = X[::5]\n",
        "#y = y[::5]\n",
        "\n",
        "print((X[:0]-X[:1]).mean())\n",
        "print((X[:0]-X[:1]).std())\n",
        "# limpar os dados para evitar Na ( n)\n",
        "\n",
        "(X_train, X_test), (y_train, y_test) = split_samples(X, y, [0.75, 0.25],\n",
        "                                                     random_state=0)\n",
        "\n",
        "N_tot = len(y)\n",
        "N_st = np.sum(y == 0)\n",
        "N_rr = N_tot - N_st\n",
        "N_train = len(y_train)\n",
        "N_test = len(y_test)\n",
        "N_plot = 5000 + N_rr\n",
        "\n",
        "#----------------------------------------------------------------------\n",
        "# Fit SVM\n",
        "Ncolors = np.arange(1, X.shape[1] + 1)\n",
        "\n",
        "\n",
        "@pickle_results('SVM_rrlyrae.pkl')\n",
        "def compute_SVM(Ncolors):\n",
        "    classifiers = []\n",
        "    predictions = []\n",
        "\n",
        "    for nc in Ncolors:\n",
        "        # perform support vector classification\n",
        "        clf = SVC(kernel='linear', class_weight='balanced')\n",
        "        clf.fit(X_train[:, :nc], y_train)\n",
        "        y_pred = clf.predict(X_test[:, :nc])\n",
        "\n",
        "        classifiers.append(clf)\n",
        "        predictions.append(y_pred)\n",
        "\n",
        "    return classifiers, predictions\n",
        "\n",
        "classifiers, predictions = compute_SVM(Ncolors)\n",
        "\n",
        "completeness, contamination = completeness_contamination(predictions, y_test)\n",
        "\n",
        "print(\"completeness\", completeness)\n",
        "print(\"contamination\", contamination)\n",
        "\n",
        "#------------------------------------------------------------\n",
        "# compute the decision boundary\n",
        "clf = classifiers[1]\n",
        "w = clf.coef_[0]\n",
        "a = -w[0] / w[1]\n",
        "yy = np.linspace(-0.1, 0.4)\n",
        "xx = a * yy - clf.intercept_[0] / w[1]\n",
        "\n",
        "#----------------------------------------------------------------------\n",
        "# plot the results\n",
        "fig = plt.figure(figsize=(5, 2.5))\n",
        "fig.subplots_adjust(bottom=0.15, top=0.95, hspace=0.0,\n",
        "                    left=0.1, right=0.95, wspace=0.2)\n",
        "\n",
        "# left plot: data and decision boundary\n",
        "ax = fig.add_subplot(121)\n",
        "ax.plot(xx, yy, '-k')\n",
        "im = ax.scatter(X[-N_plot:, 1], X[-N_plot:, 0], c=y[-N_plot:],\n",
        "                s=4, lw=0, cmap=plt.cm.binary, zorder=2)\n",
        "im.set_clim(-0.5, 1)\n",
        "\n",
        "ax.set_xlim(0.7, 1.35)\n",
        "ax.set_ylim(-0.15, 0.4)\n",
        "\n",
        "ax.set_xlabel('$u-g$')\n",
        "ax.set_ylabel('$g-r$')\n",
        "\n",
        "# plot completeness vs Ncolors\n",
        "ax = fig.add_subplot(222)\n",
        "ax.plot(Ncolors, completeness, 'o-k', ms=6)\n",
        "\n",
        "ax.xaxis.set_major_locator(plt.MultipleLocator(1))\n",
        "ax.yaxis.set_major_locator(plt.MultipleLocator(0.2))\n",
        "ax.xaxis.set_major_formatter(plt.NullFormatter())\n",
        "\n",
        "ax.set_ylabel('completeness')\n",
        "ax.set_xlim(0.5, 4.5)\n",
        "ax.set_ylim(-0.1, 1.1)\n",
        "ax.grid(True)\n",
        "\n",
        "# plot contamination vs Ncolors\n",
        "ax = fig.add_subplot(224)\n",
        "ax.plot(Ncolors, contamination, 'o-k', ms=6)\n",
        "\n",
        "ax.xaxis.set_major_locator(plt.MultipleLocator(1))\n",
        "ax.yaxis.set_major_locator(plt.MultipleLocator(0.2))\n",
        "ax.xaxis.set_major_formatter(plt.FormatStrFormatter('%i'))\n",
        "\n",
        "ax.set_xlabel('N colors')\n",
        "ax.set_ylabel('contamination')\n",
        "ax.set_xlim(0.5, 4.5)\n",
        "ax.set_ylim(-0.1, 1.1)\n",
        "ax.grid(True)\n",
        "\n",
        "plt.show()"
      ],
      "execution_count": 15,
      "outputs": [
        {
          "output_type": "stream",
          "text": [
            "/usr/local/lib/python3.6/dist-packages/ipykernel_launcher.py:36: RuntimeWarning: Mean of empty slice.\n",
            "/usr/local/lib/python3.6/dist-packages/numpy/core/_methods.py:85: RuntimeWarning: invalid value encountered in true_divide\n",
            "  ret = ret.dtype.type(ret / rcount)\n",
            "/usr/local/lib/python3.6/dist-packages/numpy/core/_methods.py:140: RuntimeWarning: Degrees of freedom <= 0 for slice\n",
            "  keepdims=keepdims)\n",
            "/usr/local/lib/python3.6/dist-packages/numpy/core/_methods.py:110: RuntimeWarning: invalid value encountered in true_divide\n",
            "  arrmean, rcount, out=arrmean, casting='unsafe', subok=False)\n",
            "/usr/local/lib/python3.6/dist-packages/numpy/core/_methods.py:132: RuntimeWarning: invalid value encountered in true_divide\n",
            "  ret = ret.dtype.type(ret / rcount)\n"
          ],
          "name": "stderr"
        },
        {
          "output_type": "stream",
          "text": [
            "nan\n",
            "nan\n",
            "@pickle_results: using precomputed results from 'SVM_rrlyrae.pkl'\n",
            "completeness [0.99270073 1.         1.         1.        ]\n",
            "contamination [0.90014684 0.85347594 0.85347594 0.85471898]\n"
          ],
          "name": "stdout"
        },
        {
          "output_type": "display_data",
          "data": {
            "image/png": "[encoded data removed]",
            "text/plain": [
              "<Figure size 360x180 with 3 Axes>"
            ]
          },
          "metadata": {
            "tags": []
          }
        }
      ]
    },
    {
      "cell_type": "code",
      "metadata": {
        "id": "y4ANCVT2BTdw",
        "colab_type": "code",
        "colab": {}
      },
      "source": [
        ""
      ],
      "execution_count": 0,
      "outputs": []
    }
  ]
}