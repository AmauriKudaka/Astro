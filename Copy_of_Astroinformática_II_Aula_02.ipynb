{
  "nbformat": 4,
  "nbformat_minor": 0,
  "metadata": {
    "colab": {
      "name": "Copy of Astroinformática II - Aula 02.ipynb",
      "version": "0.3.2",
      "provenance": [],
      "include_colab_link": true
    },
    "kernelspec": {
      "name": "python3",
      "display_name": "Python 3"
    }
  },
  "cells": [
    {
      "cell_type": "markdown",
      "metadata": {
        "id": "view-in-github",
        "colab_type": "text"
      },
      "source": [
        "<a href=\"https://colab.research.google.com/github/AmauriKudaka/Astro/blob/master/Copy_of_Astroinform%C3%A1tica_II_Aula_02.ipynb\" target=\"_parent\"><img src=\"https://colab.research.google.com/assets/colab-badge.svg\" alt=\"Open In Colab\"/></a>"
      ]
    },
    {
      "cell_type": "markdown",
      "metadata": {
        "id": "dJg3K6FNxlcY",
        "colab_type": "text"
      },
      "source": [
        "**Tópicos da Aula:** Construção de Modelos, Inicialização, Simulação"
      ]
    },
    {
      "cell_type": "code",
      "metadata": {
        "id": "hVCEBoLdtDi3",
        "colab_type": "code",
        "outputId": "70a5cbe0-1e2e-4c16-ce6a-d9d32496ad24",
        "colab": {
          "base_uri": "https://localhost:8080/",
          "height": 51
        }
      },
      "source": [
        "!pip install batman-package"
      ],
      "execution_count": 0,
      "outputs": [
        {
          "output_type": "stream",
          "text": [
            "Requirement already satisfied: batman-package in /usr/local/lib/python3.6/dist-packages (2.4.6)\n",
            "Requirement already satisfied: numpy in /usr/local/lib/python3.6/dist-packages (from batman-package) (1.16.4)\n"
          ],
          "name": "stdout"
        }
      ]
    },
    {
      "cell_type": "markdown",
      "metadata": {
        "id": "os6IbBSCEveg",
        "colab_type": "text"
      },
      "source": [
        "Cópia do google drive\n"
      ]
    },
    {
      "cell_type": "markdown",
      "metadata": {
        "id": "xExut7aExVBY",
        "colab_type": "text"
      },
      "source": [
        "**Importação dos Módulos**"
      ]
    },
    {
      "cell_type": "code",
      "metadata": {
        "id": "sPbyDH1WxUGQ",
        "colab_type": "code",
        "colab": {}
      },
      "source": [
        "import batman\n",
        "import numpy as np\n",
        "import matplotlib.pyplot as plt\n",
        "%matplotlib inline"
      ],
      "execution_count": 0,
      "outputs": []
    },
    {
      "cell_type": "markdown",
      "metadata": {
        "id": "iLDEukdUxem_",
        "colab_type": "text"
      },
      "source": [
        "**Construção do Modelo de Trânsito**"
      ]
    },
    {
      "cell_type": "code",
      "metadata": {
        "id": "mCqWq6MIxfUv",
        "colab_type": "code",
        "colab": {}
      },
      "source": [
        "params = batman.TransitParams()\n",
        "params.t0 = 0.                       #time of inferior conjunction\n",
        "params.per = 1218.                      #orbital period\n",
        "params.rp = 0.1                      #planet radius (in units of stellar radii)\n",
        "params.a = 2.60                       #semi-major axis (in units of stellar radii)\n",
        "params.inc = 87.                     #orbital inclination (in degrees)\n",
        "params.ecc = 0.24                      #eccentricity\n",
        "params.w = 90.                       #longitude of periastron (in degrees)\n",
        "params.u = [0.1, 0.3]                #limb darkening coefficients [u1, u2]\n",
        "params.limb_dark = \"quadratic\"       #limb darkening model"
      ],
      "execution_count": 0,
      "outputs": []
    },
    {
      "cell_type": "markdown",
      "metadata": {
        "id": "ydGAgeUXyVaP",
        "colab_type": "text"
      },
      "source": [
        "**Inicialização do Modelo de Trânsito**"
      ]
    },
    {
      "cell_type": "code",
      "metadata": {
        "id": "cgdXu6uByV0V",
        "colab_type": "code",
        "outputId": "5dd841d2-6359-4933-fa6e-b5c06fe43d5d",
        "colab": {
          "base_uri": "https://localhost:8080/",
          "height": 51
        }
      },
      "source": [
        "#t = np.linspace(-0.05, 0.05, 100)\n",
        "t = np.linspace(-80., 80, 100.)\n",
        "\n",
        "m = batman.TransitModel(params, t)"
      ],
      "execution_count": 0,
      "outputs": [
        {
          "output_type": "stream",
          "text": [
            "/usr/local/lib/python3.6/dist-packages/ipykernel_launcher.py:1: DeprecationWarning: object of type <class 'float'> cannot be safely interpreted as an integer.\n",
            "  \"\"\"Entry point for launching an IPython kernel.\n"
          ],
          "name": "stderr"
        }
      ]
    },
    {
      "cell_type": "code",
      "metadata": {
        "id": "pTyMFPkDh-6-",
        "colab_type": "code",
        "colab": {}
      },
      "source": [
        ""
      ],
      "execution_count": 0,
      "outputs": []
    },
    {
      "cell_type": "markdown",
      "metadata": {
        "id": "4DMF4hHyytPj",
        "colab_type": "text"
      },
      "source": [
        "**Simulação do Modelo de Trânsito**"
      ]
    },
    {
      "cell_type": "code",
      "metadata": {
        "id": "a4xOXUKOyteE",
        "colab_type": "code",
        "colab": {}
      },
      "source": [
        "flux = m.light_curve(params)"
      ],
      "execution_count": 0,
      "outputs": []
    },
    {
      "cell_type": "markdown",
      "metadata": {
        "id": "1PzufAj0yusj",
        "colab_type": "text"
      },
      "source": [
        "**Exibição dos Resultados da Simulação**"
      ]
    },
    {
      "cell_type": "code",
      "metadata": {
        "id": "zsje4qSNyvAj",
        "colab_type": "code",
        "outputId": "4c61446e-31eb-43cf-fa8e-5e07f8e6ccf5",
        "colab": {
          "base_uri": "https://localhost:8080/",
          "height": 300
        }
      },
      "source": [
        "plt.xlabel(\"Time from central transit\")\n",
        "plt.ylabel(\"Relative flux\")\n",
        "plt.plot(t, flux)"
      ],
      "execution_count": 0,
      "outputs": [
        {
          "output_type": "execute_result",
          "data": {
            "text/plain": [
              "[<matplotlib.lines.Line2D at 0x7f4b9c73d198>]"
            ]
          },
          "metadata": {
            "tags": []
          },
          "execution_count": 63
        },
        {
          "output_type": "display_data",
          "data": {
            "image/png": "[encoded data removed]",
            "text/plain": [
              "<Figure size 432x288 with 1 Axes>"
            ]
          },
          "metadata": {
            "tags": []
          }
        }
      ]
    },
    {
      "cell_type": "markdown",
      "metadata": {
        "id": "UbJuLXxA2Bg8",
        "colab_type": "text"
      },
      "source": [
        "\n",
        "**Simulação com diferentes raios do planeta**"
      ]
    },
    {
      "cell_type": "code",
      "metadata": {
        "id": "L4g---Os2CEw",
        "colab_type": "code",
        "outputId": "1280d12e-e423-469f-8272-717f22eb9d2a",
        "colab": {
          "base_uri": "https://localhost:8080/",
          "height": 269
        }
      },
      "source": [
        "params = batman.TransitParams()       #object to store transit parameters\n",
        "params.t0 = 0.                        #time of inferior conjunction\n",
        "params.per = 1.                       #orbital period\n",
        "params.rp = 0.1                       #planet radius (in units of stellar radii)\n",
        "params.a = 15.                        #semi-major axis (in units of stellar radii)\n",
        "params.inc = 87.                      #orbital inclination (in degrees)\n",
        "params.ecc = 0.                       #eccentricity\n",
        "params.w = 90.                        #longitude of periastron (in degrees)\n",
        "params.u = [0.1, 0.3]                #limb darkening coefficients [u1, u2]\n",
        "params.limb_dark = \"quadratic\"       #limb darkening model\n",
        "\n",
        "t = np.linspace(-0.05, 0.05, 100)        #times at which to calculate light curve\n",
        "m = batman.TransitModel(params, t)    #initializes model\n",
        "\n",
        "radii = np.linspace(0.09, 0.11, 20)\n",
        "for r in radii:\n",
        "        params.rp = r                           #updates planet radius\n",
        "        flux = m.light_curve(params)            #recalculates light curve\n",
        "        plt.plot(t,flux)"
      ],
      "execution_count": 0,
      "outputs": [
        {
          "output_type": "display_data",
          "data": {
            "image/png": "[encoded data removed]",
            "text/plain": [
              "<Figure size 432x288 with 1 Axes>"
            ]
          },
          "metadata": {
            "tags": []
          }
        }
      ]
    },
    {
      "cell_type": "markdown",
      "metadata": {
        "id": "rpX0hBCQ6U_M",
        "colab_type": "text"
      },
      "source": [
        "**Simulação com diferentes escurecimentos de limbo**"
      ]
    },
    {
      "cell_type": "code",
      "metadata": {
        "id": "F6yIGMgT6WHC",
        "colab_type": "code",
        "outputId": "9310295a-d298-462a-b148-418090c7881e",
        "colab": {
          "base_uri": "https://localhost:8080/",
          "height": 286
        }
      },
      "source": [
        "params = batman.TransitParams()       #object to store transit parameters\n",
        "params.t0 = 0.                        #time of inferior conjunction\n",
        "params.per = 1.                       #orbital period\n",
        "params.rp = 0.1                       #planet radius (in units of stellar radii)\n",
        "params.a = 15.                        #semi-major axis (in units of stellar radii)\n",
        "params.inc = 87.                      #orbital inclination (in degrees)\n",
        "params.ecc = 0.                       #eccentricity\n",
        "params.w = 90.                        #longitude of periastron (in degrees)\n",
        "params.u = [0.1, 0.3]                #limb darkening coefficients [u1, u2]\n",
        "params.limb_dark = \"quadratic\"       #limb darkening model\n",
        "\n",
        "t = np.linspace(-0.05, 0.05, 100)        #times at which to calculate light curve\n",
        "m = batman.TransitModel(params, t)    #initializes model\n",
        "\n",
        "ld_options = [\"uniform\", \"linear\", \"quadratic\", \"nonlinear\"]\n",
        "ld_coefficients = [[], [0.3], [0.1, 0.3], [0.5, 0.1, 0.1, -0.1]]\n",
        "\n",
        "\n",
        "for i in range(4):\n",
        "        params.limb_dark = ld_options[i]          #specifies the LD profile\n",
        "        params.u = ld_coefficients[i]             #updates LD coefficients\n",
        "        m = batman.TransitModel(params, t)        #initializes the model\n",
        "        flux = m.light_curve(params)              #calculates light curve\n",
        "        plt.plot(t, flux, label = ld_options[i])\n",
        "        \n",
        "plt.legend()"
      ],
      "execution_count": 0,
      "outputs": [
        {
          "output_type": "execute_result",
          "data": {
            "text/plain": [
              "<matplotlib.legend.Legend at 0x7f4b9c479d68>"
            ]
          },
          "metadata": {
            "tags": []
          },
          "execution_count": 70
        },
        {
          "output_type": "display_data",
          "data": {
            "image/png": "[encoded data removed]",
            "text/plain": [
              "<Figure size 432x288 with 1 Axes>"
            ]
          },
          "metadata": {
            "tags": []
          }
        }
      ]
    },
    {
      "cell_type": "code",
      "metadata": {
        "id": "olaFYKBoogQ2",
        "colab_type": "code",
        "outputId": "89532534-3092-4d95-d2cc-5d32ea806cc9",
        "colab": {
          "base_uri": "https://localhost:8080/",
          "height": 221
        }
      },
      "source": [
        "pip install ellc\n"
      ],
      "execution_count": 0,
      "outputs": [
        {
          "output_type": "stream",
          "text": [
            "Collecting ellc\n",
            "\u001b[?25l  Downloading https://files.pythonhosted.org/packages/3b/6d/3527e9d92cc5941bcdc1422a98ed2a20ea4ae10feee61b98ebe91e6843e3/ellc-1.8.5.tar.gz (13.7MB)\n",
            "\u001b[K     |████████████████████████████████| 13.7MB 2.8MB/s \n",
            "\u001b[?25hRequirement already satisfied: numpy>=1.10.0 in /usr/local/lib/python3.6/dist-packages (from ellc) (1.16.4)\n",
            "Requirement already satisfied: astropy>=1.1.1 in /usr/local/lib/python3.6/dist-packages (from ellc) (3.0.5)\n",
            "Building wheels for collected packages: ellc\n",
            "  Building wheel for ellc (setup.py) ... \u001b[?25l\u001b[?25hdone\n",
            "  Created wheel for ellc: filename=ellc-1.8.5-cp36-cp36m-linux_x86_64.whl size=14093045 sha256=dc4de141badf1afb5160992f7dafc723e53ea199e8308c1f90ff9fc6077f74a8\n",
            "  Stored in directory: /root/.cache/pip/wheels/83/97/04/1f2ecf5f89f894ddf2cf4a70f6bcf216df410376b86f2d0ec9\n",
            "Successfully built ellc\n",
            "Installing collected packages: ellc\n",
            "Successfully installed ellc-1.8.5\n"
          ],
          "name": "stdout"
        }
      ]
    }
  ]
}