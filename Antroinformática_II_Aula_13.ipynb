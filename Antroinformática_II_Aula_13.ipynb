{
  "nbformat": 4,
  "nbformat_minor": 0,
  "metadata": {
    "colab": {
      "name": "Copy of Copy of Antroinformática II - Aula 13.ipynb",
      "provenance": [],
      "collapsed_sections": [],
      "include_colab_link": true
    },
    "kernelspec": {
      "name": "python3",
      "display_name": "Python 3"
    }
  },
  "cells": [
    {
      "cell_type": "markdown",
      "metadata": {
        "id": "view-in-github",
        "colab_type": "text"
      },
      "source": [
        "<a href=\"https://colab.research.google.com/github/AmauriKudaka/Astro/blob/master/Antroinform%C3%A1tica_II_Aula_13.ipynb\" target=\"_parent\"><img src=\"https://colab.research.google.com/assets/colab-badge.svg\" alt=\"Open In Colab\"/></a>"
      ]
    },
    {
      "cell_type": "markdown",
      "metadata": {
        "id": "f4oRXLl9ASDN",
        "colab_type": "text"
      },
      "source": [
        "APRENDIZADO SUPERVISIONADO"
      ]
    },
    {
      "cell_type": "code",
      "metadata": {
        "id": "wye6dxr6fu_n",
        "colab_type": "code",
        "colab": {}
      },
      "source": [
        ""
      ],
      "execution_count": 0,
      "outputs": []
    },
    {
      "cell_type": "markdown",
      "metadata": {
        "id": "TIJtlrIvDKFy",
        "colab_type": "text"
      },
      "source": [
        "**TEORIA**"
      ]
    },
    {
      "cell_type": "code",
      "metadata": {
        "id": "L2eFMk80bbgc",
        "colab_type": "code",
        "outputId": "2ad75ccd-caaa-4478-bf0c-0ec87a19966f",
        "colab": {
          "base_uri": "https://localhost:8080/",
          "height": 85
        }
      },
      "source": [
        "import numpy as np\n",
        "X = np.array([[1, 1], [0, 0]])\n",
        "y = np.array([1,0])\n",
        "from sklearn.svm import SVC\n",
        "clf = SVC(gamma='auto')\n",
        "clf.fit(X, y)"
      ],
      "execution_count": 0,
      "outputs": [
        {
          "output_type": "execute_result",
          "data": {
            "text/plain": [
              "SVC(C=1.0, cache_size=200, class_weight=None, coef0=0.0,\n",
              "    decision_function_shape='ovr', degree=3, gamma='auto', kernel='rbf',\n",
              "    max_iter=-1, probability=False, random_state=None, shrinking=True,\n",
              "    tol=0.001, verbose=False)"
            ]
          },
          "metadata": {
            "tags": []
          },
          "execution_count": 1
        }
      ]
    },
    {
      "cell_type": "code",
      "metadata": {
        "id": "VfqjJzq2Al8i",
        "colab_type": "code",
        "outputId": "31c64414-db23-45db-c862-ffd2af10026a",
        "colab": {
          "base_uri": "https://localhost:8080/",
          "height": 34
        }
      },
      "source": [
        "clf.predict([[0,0]])\n"
      ],
      "execution_count": 0,
      "outputs": [
        {
          "output_type": "execute_result",
          "data": {
            "text/plain": [
              "array([0])"
            ]
          },
          "metadata": {
            "tags": []
          },
          "execution_count": 2
        }
      ]
    },
    {
      "cell_type": "code",
      "metadata": {
        "id": "bOV9bJhECeuV",
        "colab_type": "code",
        "outputId": "b0d6ffd1-b0f7-4731-a9e5-6e95354613af",
        "colab": {
          "base_uri": "https://localhost:8080/",
          "height": 34
        }
      },
      "source": [
        "clf.predict([[1,1]])\n"
      ],
      "execution_count": 0,
      "outputs": [
        {
          "output_type": "execute_result",
          "data": {
            "text/plain": [
              "array([1])"
            ]
          },
          "metadata": {
            "tags": []
          },
          "execution_count": 3
        }
      ]
    },
    {
      "cell_type": "code",
      "metadata": {
        "id": "t5MF-u-5CiVD",
        "colab_type": "code",
        "outputId": "7f8e45ac-eb2c-4eb0-8602-92c574548a66",
        "colab": {
          "base_uri": "https://localhost:8080/",
          "height": 34
        }
      },
      "source": [
        "clf.predict([[4,4]])"
      ],
      "execution_count": 0,
      "outputs": [
        {
          "output_type": "execute_result",
          "data": {
            "text/plain": [
              "array([1])"
            ]
          },
          "metadata": {
            "tags": []
          },
          "execution_count": 5
        }
      ]
    },
    {
      "cell_type": "code",
      "metadata": {
        "id": "tl41aLDKgDGn",
        "colab_type": "code",
        "outputId": "60416dc4-ff95-4de7-e90c-62bb59737213",
        "colab": {
          "base_uri": "https://localhost:8080/",
          "height": 34
        }
      },
      "source": [
        "clf.predict([[0,-2]])"
      ],
      "execution_count": 0,
      "outputs": [
        {
          "output_type": "execute_result",
          "data": {
            "text/plain": [
              "array([0])"
            ]
          },
          "metadata": {
            "tags": []
          },
          "execution_count": 9
        }
      ]
    },
    {
      "cell_type": "code",
      "metadata": {
        "id": "yzVNyr6WgmJH",
        "colab_type": "code",
        "outputId": "3ac2352b-c762-4adc-fb99-94144faf84fa",
        "colab": {
          "base_uri": "https://localhost:8080/",
          "height": 34
        }
      },
      "source": [
        "clf.predict([[0.5, 0.5]])"
      ],
      "execution_count": 0,
      "outputs": [
        {
          "output_type": "execute_result",
          "data": {
            "text/plain": [
              "array([1])"
            ]
          },
          "metadata": {
            "tags": []
          },
          "execution_count": 11
        }
      ]
    },
    {
      "cell_type": "code",
      "metadata": {
        "id": "4ajZwKtFgyAE",
        "colab_type": "code",
        "outputId": "8bb8b452-af92-40a3-f280-da10f48af8dc",
        "colab": {
          "base_uri": "https://localhost:8080/",
          "height": 34
        }
      },
      "source": [
        "clf.predict([[0.4, 0.4]])"
      ],
      "execution_count": 0,
      "outputs": [
        {
          "output_type": "execute_result",
          "data": {
            "text/plain": [
              "array([0])"
            ]
          },
          "metadata": {
            "tags": []
          },
          "execution_count": 12
        }
      ]
    },
    {
      "cell_type": "markdown",
      "metadata": {
        "id": "TccQcaIDDPcx",
        "colab_type": "text"
      },
      "source": [
        "**PRÁTICA**"
      ]
    },
    {
      "cell_type": "code",
      "metadata": {
        "id": "9fpP7i27FPy0",
        "colab_type": "code",
        "outputId": "ed4e3d60-8a28-4b63-c774-d7cc4ac808bb",
        "colab": {
          "base_uri": "https://localhost:8080/",
          "height": 391
        }
      },
      "source": [
        "!pip install astroml"
      ],
      "execution_count": 0,
      "outputs": [
        {
          "output_type": "stream",
          "text": [
            "Collecting astroml\n",
            "\u001b[?25l  Downloading https://files.pythonhosted.org/packages/e6/16/bb2d2784c09bfa9ed1ac5c3caf32cc203a1f8614fd5361f99ee46b4e04dc/astroML-0.4.1.tar.gz (105kB)\n",
            "\u001b[K     |████████████████████████████████| 112kB 4.9MB/s \n",
            "\u001b[?25hRequirement already satisfied: scikit-learn>=0.18 in /usr/local/lib/python3.6/dist-packages (from astroml) (0.21.3)\n",
            "Requirement already satisfied: numpy>=1.4 in /usr/local/lib/python3.6/dist-packages (from astroml) (1.16.5)\n",
            "Requirement already satisfied: scipy>=0.11 in /usr/local/lib/python3.6/dist-packages (from astroml) (1.3.1)\n",
            "Requirement already satisfied: matplotlib>=0.99 in /usr/local/lib/python3.6/dist-packages (from astroml) (3.0.3)\n",
            "Requirement already satisfied: astropy>=1.2 in /usr/local/lib/python3.6/dist-packages (from astroml) (3.0.5)\n",
            "Requirement already satisfied: joblib>=0.11 in /usr/local/lib/python3.6/dist-packages (from scikit-learn>=0.18->astroml) (0.14.0)\n",
            "Requirement already satisfied: cycler>=0.10 in /usr/local/lib/python3.6/dist-packages (from matplotlib>=0.99->astroml) (0.10.0)\n",
            "Requirement already satisfied: pyparsing!=2.0.4,!=2.1.2,!=2.1.6,>=2.0.1 in /usr/local/lib/python3.6/dist-packages (from matplotlib>=0.99->astroml) (2.4.2)\n",
            "Requirement already satisfied: python-dateutil>=2.1 in /usr/local/lib/python3.6/dist-packages (from matplotlib>=0.99->astroml) (2.5.3)\n",
            "Requirement already satisfied: kiwisolver>=1.0.1 in /usr/local/lib/python3.6/dist-packages (from matplotlib>=0.99->astroml) (1.1.0)\n",
            "Requirement already satisfied: six in /usr/local/lib/python3.6/dist-packages (from cycler>=0.10->matplotlib>=0.99->astroml) (1.12.0)\n",
            "Requirement already satisfied: setuptools in /usr/local/lib/python3.6/dist-packages (from kiwisolver>=1.0.1->matplotlib>=0.99->astroml) (41.2.0)\n",
            "Building wheels for collected packages: astroml\n",
            "  Building wheel for astroml (setup.py) ... \u001b[?25l\u001b[?25hdone\n",
            "  Created wheel for astroml: filename=astroML-0.4.1-cp36-none-any.whl size=128663 sha256=f2bc38a008eae2f407f6aae818d5da6f32228e717ea65858a13400b3686a714a\n",
            "  Stored in directory: /root/.cache/pip/wheels/7c/f2/f3/eb817cfb31b4445358dd7dda2434e02003f72801edabc38c97\n",
            "Successfully built astroml\n",
            "Installing collected packages: astroml\n",
            "Successfully installed astroml-0.4.1\n"
          ],
          "name": "stdout"
        }
      ]
    },
    {
      "cell_type": "code",
      "metadata": {
        "id": "O_aEgpEhFV0i",
        "colab_type": "code",
        "outputId": "ea5d9d1b-f18d-411b-b03b-3ed70a38cc9d",
        "colab": {
          "base_uri": "https://localhost:8080/",
          "height": 285
        }
      },
      "source": [
        "from matplotlib import pyplot as plt\n",
        "\n",
        "from astroML.datasets import fetch_sdss_galaxy_colors\n",
        "\n",
        "#------------------------------------------------------------\n",
        "# Download data\n",
        "data = fetch_sdss_galaxy_colors()\n",
        "data = data[::10]  # truncate for plotting\n",
        "\n",
        "# Extract colors and spectral class\n",
        "ug = data['u'] - data['g']\n",
        "gr = data['g'] - data['r']\n",
        "spec_class = data['specClass']\n",
        "\n",
        "galaxies = (spec_class == 'GALAXY')\n",
        "qsos = (spec_class == 'QSO')\n",
        "\n",
        "#------------------------------------------------------------\n",
        "# Prepare plot\n",
        "fig = plt.figure()\n",
        "ax = fig.add_subplot(111)\n",
        "\n",
        "ax.set_xlim(-0.5, 2.5)\n",
        "ax.set_ylim(-0.5, 1.5)\n",
        "\n",
        "ax.plot(ug[galaxies], gr[galaxies], '.', ms=4, c='b', label='galaxies')\n",
        "ax.plot(ug[qsos], gr[qsos], '.', ms=4, c='r', label='qsos')\n",
        "\n",
        "ax.legend(loc=2)\n",
        "\n",
        "ax.set_xlabel('$u-g$')\n",
        "ax.set_ylabel('$g-r$')\n",
        "\n",
        "plt.show()"
      ],
      "execution_count": 0,
      "outputs": [
        {
          "output_type": "display_data",
          "data": {
            "image/png": "[encoded data removed]",
            "text/plain": [
              "<Figure size 432x288 with 1 Axes>"
            ]
          },
          "metadata": {
            "tags": []
          }
        }
      ]
    },
    {
      "cell_type": "code",
      "metadata": {
        "id": "aUxmOw_jkThs",
        "colab_type": "code",
        "outputId": "0b88830f-a1da-4444-efd0-8cf069508558",
        "colab": {
          "base_uri": "https://localhost:8080/",
          "height": 85
        }
      },
      "source": [
        "import numpy as np\n",
        "\n",
        "\n",
        "\n",
        "X = np.array([[1, 1], [0, 0]])\n",
        "y = np.array([1,0])\n",
        "\n",
        "\n",
        "from sklearn.svm import SVC\n",
        "\n",
        "clf = SVC(gamma='auto')\n",
        "clf.fit(X, y)"
      ],
      "execution_count": 0,
      "outputs": [
        {
          "output_type": "execute_result",
          "data": {
            "text/plain": [
              "SVC(C=1.0, cache_size=200, class_weight=None, coef0=0.0,\n",
              "    decision_function_shape='ovr', degree=3, gamma='auto', kernel='rbf',\n",
              "    max_iter=-1, probability=False, random_state=None, shrinking=True,\n",
              "    tol=0.001, verbose=False)"
            ]
          },
          "metadata": {
            "tags": []
          },
          "execution_count": 16
        }
      ]
    },
    {
      "cell_type": "code",
      "metadata": {
        "id": "0nkOuxZ6k3Vq",
        "colab_type": "code",
        "outputId": "6ecacf0b-496e-4882-c40a-bd92ff960fac",
        "colab": {
          "base_uri": "https://localhost:8080/",
          "height": 153
        }
      },
      "source": [
        "data"
      ],
      "execution_count": 0,
      "outputs": [
        {
          "output_type": "execute_result",
          "data": {
            "text/plain": [
              "array([(18.36716, 16.15226, 15.06507, 14.51372, 14.05285, 'GALAXY', 0.02725771, 1.432335e-05),\n",
              "       (19.49664, 18.28441, 17.72901, 17.33362, 17.14402, 'GALAXY', 0.05762954, 7.756537e-06),\n",
              "       (18.85786, 16.96216, 16.00313, 15.49234, 15.12086, 'GALAXY', 0.05765377, 1.710475e-05),\n",
              "       ...,\n",
              "       (19.37004, 19.30521, 19.00243, 19.03861, 19.09303, 'QSO', 1.152036  , 4.414360e-04),\n",
              "       (19.28205, 18.17685, 17.74259, 17.48688, 17.43285, 'GALAXY', 0.03674006, 8.883540e-06),\n",
              "       (19.27675, 19.13935, 18.76525, 18.81042, 18.93707, 'QSO', 1.093106  , 4.060671e-04)],\n",
              "      dtype=[('u', '<f8'), ('g', '<f8'), ('r', '<f8'), ('i', '<f8'), ('z', '<f8'), ('specClass', '<U6'), ('redshift', '<f8'), ('redshift_err', '<f8')])"
            ]
          },
          "metadata": {
            "tags": []
          },
          "execution_count": 18
        }
      ]
    },
    {
      "cell_type": "code",
      "metadata": {
        "id": "qOI1oD8Xk7wL",
        "colab_type": "code",
        "outputId": "b362c105-cc6f-4d05-b9b4-31ce83c45541",
        "colab": {
          "base_uri": "https://localhost:8080/",
          "height": 51
        }
      },
      "source": [
        "spec_class\n"
      ],
      "execution_count": 0,
      "outputs": [
        {
          "output_type": "execute_result",
          "data": {
            "text/plain": [
              "array(['GALAXY', 'GALAXY', 'GALAXY', ..., 'QSO', 'GALAXY', 'QSO'],\n",
              "      dtype='<U6')"
            ]
          },
          "metadata": {
            "tags": []
          },
          "execution_count": 23
        }
      ]
    },
    {
      "cell_type": "code",
      "metadata": {
        "id": "2bZbkQcDlm7n",
        "colab_type": "code",
        "outputId": "59556d4f-3282-4914-ae98-76c205b58133",
        "colab": {
          "base_uri": "https://localhost:8080/",
          "height": 34
        }
      },
      "source": [
        "array=data\n",
        "array[1]"
      ],
      "execution_count": 0,
      "outputs": [
        {
          "output_type": "execute_result",
          "data": {
            "text/plain": [
              "(19.49664, 18.28441, 17.72901, 17.33362, 17.14402, 'GALAXY', 0.05762954, 7.756537e-06)"
            ]
          },
          "metadata": {
            "tags": []
          },
          "execution_count": 51
        }
      ]
    },
    {
      "cell_type": "code",
      "metadata": {
        "id": "BxPipuOqlnFK",
        "colab_type": "code",
        "colab": {}
      },
      "source": [
        ""
      ],
      "execution_count": 0,
      "outputs": []
    },
    {
      "cell_type": "code",
      "metadata": {
        "id": "zqDlUe3KpSrH",
        "colab_type": "code",
        "colab": {}
      },
      "source": [
        ""
      ],
      "execution_count": 0,
      "outputs": []
    },
    {
      "cell_type": "code",
      "metadata": {
        "id": "Yof6m16lvNnk",
        "colab_type": "code",
        "colab": {}
      },
      "source": [
        ""
      ],
      "execution_count": 0,
      "outputs": []
    },
    {
      "cell_type": "code",
      "metadata": {
        "id": "JPLT-7sZlnH_",
        "colab_type": "code",
        "colab": {}
      },
      "source": [
        "#Tutorial sklear\n",
        "#sendtex \n",
        "#https://pythonprogramming.net/linear-svc-example-scikit-learn-svm-python/"
      ],
      "execution_count": 0,
      "outputs": []
    }
  ]
}